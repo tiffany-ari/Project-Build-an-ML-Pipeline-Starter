{
 "cells": [
  {
   "cell_type": "code",
   "execution_count": null,
   "id": "1f72a955",
   "metadata": {
    "scrolled": true,
    "tags": []
   },
   "outputs": [
    {
     "name": "stdout",
     "output_type": "stream",
     "text": [
      "Collecting wandb==0.13.9\n",
      "  Downloading wandb-0.13.9-py2.py3-none-any.whl.metadata (7.7 kB)\n",
      "Requirement already satisfied: Click!=8.0.0,>=7.0 in /home/thutch28/miniconda3/envs/udacity/lib/python3.8/site-packages (from wandb==0.13.9) (8.1.7)\n",
      "Requirement already satisfied: GitPython>=1.0.0 in /home/thutch28/miniconda3/envs/udacity/lib/python3.8/site-packages (from wandb==0.13.9) (3.1.43)\n",
      "Requirement already satisfied: requests<3,>=2.0.0 in /home/thutch28/miniconda3/envs/udacity/lib/python3.8/site-packages (from wandb==0.13.9) (2.31.0)\n",
      "Requirement already satisfied: psutil>=5.0.0 in /home/thutch28/miniconda3/envs/udacity/lib/python3.8/site-packages (from wandb==0.13.9) (5.9.8)\n",
      "Requirement already satisfied: sentry-sdk>=1.0.0 in /home/thutch28/miniconda3/envs/udacity/lib/python3.8/site-packages (from wandb==0.13.9) (1.45.0)\n",
      "Requirement already satisfied: docker-pycreds>=0.4.0 in /home/thutch28/miniconda3/envs/udacity/lib/python3.8/site-packages (from wandb==0.13.9) (0.4.0)\n",
      "Requirement already satisfied: PyYAML in /home/thutch28/miniconda3/envs/udacity/lib/python3.8/site-packages (from wandb==0.13.9) (6.0.1)\n",
      "Collecting pathtools (from wandb==0.13.9)\n",
      "  Downloading pathtools-0.1.2.tar.gz (11 kB)\n",
      "  Preparing metadata (setup.py) ... \u001b[?25ldone\n",
      "\u001b[?25hRequirement already satisfied: setproctitle in /home/thutch28/miniconda3/envs/udacity/lib/python3.8/site-packages (from wandb==0.13.9) (1.3.3)\n",
      "Requirement already satisfied: setuptools in /home/thutch28/miniconda3/envs/udacity/lib/python3.8/site-packages (from wandb==0.13.9) (69.5.1)\n",
      "Requirement already satisfied: appdirs>=1.4.3 in /home/thutch28/miniconda3/envs/udacity/lib/python3.8/site-packages (from wandb==0.13.9) (1.4.4)\n",
      "Requirement already satisfied: typing-extensions in /home/thutch28/miniconda3/envs/udacity/lib/python3.8/site-packages (from wandb==0.13.9) (4.11.0)\n",
      "Requirement already satisfied: protobuf!=4.21.0,<5,>=3.12.0 in /home/thutch28/miniconda3/envs/udacity/lib/python3.8/site-packages (from wandb==0.13.9) (4.25.3)\n",
      "Requirement already satisfied: six>=1.4.0 in /home/thutch28/miniconda3/envs/udacity/lib/python3.8/site-packages (from docker-pycreds>=0.4.0->wandb==0.13.9) (1.16.0)\n",
      "Requirement already satisfied: gitdb<5,>=4.0.1 in /home/thutch28/miniconda3/envs/udacity/lib/python3.8/site-packages (from GitPython>=1.0.0->wandb==0.13.9) (4.0.11)\n",
      "Requirement already satisfied: charset-normalizer<4,>=2 in /home/thutch28/miniconda3/envs/udacity/lib/python3.8/site-packages (from requests<3,>=2.0.0->wandb==0.13.9) (3.3.2)\n",
      "Requirement already satisfied: idna<4,>=2.5 in /home/thutch28/miniconda3/envs/udacity/lib/python3.8/site-packages (from requests<3,>=2.0.0->wandb==0.13.9) (3.7)\n",
      "Requirement already satisfied: urllib3<3,>=1.21.1 in /home/thutch28/miniconda3/envs/udacity/lib/python3.8/site-packages (from requests<3,>=2.0.0->wandb==0.13.9) (2.2.1)\n",
      "Requirement already satisfied: certifi>=2017.4.17 in /home/thutch28/miniconda3/envs/udacity/lib/python3.8/site-packages (from requests<3,>=2.0.0->wandb==0.13.9) (2024.2.2)\n",
      "Requirement already satisfied: smmap<6,>=3.0.1 in /home/thutch28/miniconda3/envs/udacity/lib/python3.8/site-packages (from gitdb<5,>=4.0.1->GitPython>=1.0.0->wandb==0.13.9) (5.0.0)\n",
      "Downloading wandb-0.13.9-py2.py3-none-any.whl (2.0 MB)\n",
      "\u001b[2K   \u001b[90m━━━━━━━━━━━━━━━━━━━━━━━━━━━━━━━━━━━━━━━━\u001b[0m \u001b[32m2.0/2.0 MB\u001b[0m \u001b[31m3.0 MB/s\u001b[0m eta \u001b[36m0:00:00\u001b[0ma \u001b[36m0:00:01\u001b[0m0m\n",
      "\u001b[?25hBuilding wheels for collected packages: pathtools\n",
      "  Building wheel for pathtools (setup.py) ... \u001b[?25ldone\n",
      "\u001b[?25h  Created wheel for pathtools: filename=pathtools-0.1.2-py3-none-any.whl size=8791 sha256=937240717d9b923cd0a94b1439917873fe0ca68d449f9c0fa52a34566372554a\n",
      "  Stored in directory: /home/thutch28/.cache/pip/wheels/4c/8e/7e/72fbc243e1aeecae64a96875432e70d4e92f3d2d18123be004\n",
      "Successfully built pathtools\n",
      "Installing collected packages: pathtools, wandb\n",
      "  Attempting uninstall: wandb\n",
      "    Found existing installation: wandb 0.16.6\n",
      "    Uninstalling wandb-0.16.6:\n",
      "      Successfully uninstalled wandb-0.16.6\n",
      "Successfully installed pathtools-0.1.2 wandb-0.13.9\n",
      "Collecting pandas-profiling==3.6.2\n",
      "  Downloading pandas_profiling-3.6.2-py2.py3-none-any.whl.metadata (19 kB)\n",
      "Collecting scipy<1.10,>=1.4.1 (from pandas-profiling==3.6.2)\n",
      "  Downloading scipy-1.9.3-cp38-cp38-manylinux_2_17_x86_64.manylinux2014_x86_64.whl.metadata (58 kB)\n",
      "\u001b[2K     \u001b[90m━━━━━━━━━━━━━━━━━━━━━━━━━━━━━━━━━━━━━━━\u001b[0m \u001b[32m58.4/58.4 kB\u001b[0m \u001b[31m756.4 kB/s\u001b[0m eta \u001b[36m0:00:00\u001b[0m \u001b[36m0:00:01\u001b[0m\n",
      "\u001b[?25hCollecting pandas!=1.4.0,<1.6,>1.1 (from pandas-profiling==3.6.2)\n",
      "  Downloading pandas-1.5.3-cp38-cp38-manylinux_2_17_x86_64.manylinux2014_x86_64.whl.metadata (11 kB)\n",
      "Collecting matplotlib<3.7,>=3.2 (from pandas-profiling==3.6.2)\n",
      "  Downloading matplotlib-3.6.3-cp38-cp38-manylinux_2_12_x86_64.manylinux2010_x86_64.whl.metadata (6.8 kB)\n",
      "Collecting pydantic<1.11,>=1.8.1 (from pandas-profiling==3.6.2)\n",
      "  Downloading pydantic-1.10.15-cp38-cp38-manylinux_2_17_x86_64.manylinux2014_x86_64.whl.metadata (150 kB)\n",
      "\u001b[2K     \u001b[90m━━━━━━━━━━━━━━━━━━━━━━━━━━━━━━━━━━━━━━━\u001b[0m \u001b[32m150.6/150.6 kB\u001b[0m \u001b[31m2.4 MB/s\u001b[0m eta \u001b[36m0:00:00\u001b[0ma \u001b[36m0:00:01\u001b[0m\n",
      "\u001b[?25hRequirement already satisfied: PyYAML<6.1,>=5.0.0 in /home/thutch28/miniconda3/envs/udacity/lib/python3.8/site-packages (from pandas-profiling==3.6.2) (6.0.1)\n",
      "Requirement already satisfied: jinja2<3.2,>=2.11.1 in /home/thutch28/miniconda3/envs/udacity/lib/python3.8/site-packages (from pandas-profiling==3.6.2) (3.1.3)\n",
      "Collecting visions==0.7.5 (from visions[type_image_path]==0.7.5->pandas-profiling==3.6.2)\n",
      "  Downloading visions-0.7.5-py3-none-any.whl.metadata (6.3 kB)\n",
      "Collecting numpy<1.24,>=1.16.0 (from pandas-profiling==3.6.2)\n",
      "  Downloading numpy-1.23.5-cp38-cp38-manylinux_2_17_x86_64.manylinux2014_x86_64.whl.metadata (2.3 kB)\n",
      "Collecting htmlmin==0.1.12 (from pandas-profiling==3.6.2)\n",
      "  Downloading htmlmin-0.1.12.tar.gz (19 kB)\n",
      "  Preparing metadata (setup.py) ... \u001b[?25ldone\n",
      "\u001b[?25hCollecting phik<0.13,>=0.11.1 (from pandas-profiling==3.6.2)\n",
      "  Downloading phik-0.12.4-cp38-cp38-manylinux_2_17_x86_64.manylinux2014_x86_64.whl.metadata (5.6 kB)\n",
      "Collecting requests<2.29,>=2.24.0 (from pandas-profiling==3.6.2)\n",
      "  Downloading requests-2.28.2-py3-none-any.whl.metadata (4.6 kB)\n",
      "Collecting tqdm<4.65,>=4.48.2 (from pandas-profiling==3.6.2)\n",
      "  Downloading tqdm-4.64.1-py2.py3-none-any.whl.metadata (57 kB)\n",
      "\u001b[2K     \u001b[90m━━━━━━━━━━━━━━━━━━━━━━━━━━━━━━━━━━━━━━━━\u001b[0m \u001b[32m57.3/57.3 kB\u001b[0m \u001b[31m2.2 MB/s\u001b[0m eta \u001b[36m0:00:00\u001b[0m\n",
      "\u001b[?25hCollecting seaborn<0.13,>=0.10.1 (from pandas-profiling==3.6.2)\n",
      "  Downloading seaborn-0.12.2-py3-none-any.whl.metadata (5.4 kB)\n",
      "Collecting multimethod<1.10,>=1.4 (from pandas-profiling==3.6.2)\n",
      "  Downloading multimethod-1.9.1-py3-none-any.whl.metadata (9.2 kB)\n",
      "Collecting statsmodels<0.14,>=0.13.2 (from pandas-profiling==3.6.2)\n",
      "  Downloading statsmodels-0.13.5-cp38-cp38-manylinux_2_17_x86_64.manylinux2014_x86_64.whl.metadata (9.5 kB)\n",
      "Collecting typeguard<2.14,>=2.13.2 (from pandas-profiling==3.6.2)\n",
      "  Downloading typeguard-2.13.3-py3-none-any.whl.metadata (3.6 kB)\n",
      "Requirement already satisfied: attrs>=19.3.0 in /home/thutch28/miniconda3/envs/udacity/lib/python3.8/site-packages (from visions==0.7.5->visions[type_image_path]==0.7.5->pandas-profiling==3.6.2) (23.2.0)\n",
      "Collecting networkx>=2.4 (from visions==0.7.5->visions[type_image_path]==0.7.5->pandas-profiling==3.6.2)\n",
      "  Downloading networkx-3.1-py3-none-any.whl.metadata (5.3 kB)\n",
      "Collecting tangled-up-in-unicode>=0.0.4 (from visions==0.7.5->visions[type_image_path]==0.7.5->pandas-profiling==3.6.2)\n",
      "  Downloading tangled_up_in_unicode-0.2.0-py3-none-any.whl.metadata (4.8 kB)\n",
      "\u001b[33mWARNING: visions 0.7.5 does not provide the extra 'type-image-path'\u001b[0m\u001b[33m\n",
      "\u001b[0mCollecting imagehash (from visions[type_image_path]==0.7.5->pandas-profiling==3.6.2)\n",
      "  Downloading ImageHash-4.3.1-py2.py3-none-any.whl.metadata (8.0 kB)\n",
      "Requirement already satisfied: Pillow in /home/thutch28/miniconda3/envs/udacity/lib/python3.8/site-packages (from visions[type_image_path]==0.7.5->pandas-profiling==3.6.2) (10.3.0)\n",
      "Requirement already satisfied: MarkupSafe>=2.0 in /home/thutch28/miniconda3/envs/udacity/lib/python3.8/site-packages (from jinja2<3.2,>=2.11.1->pandas-profiling==3.6.2) (2.1.5)\n",
      "Requirement already satisfied: contourpy>=1.0.1 in /home/thutch28/miniconda3/envs/udacity/lib/python3.8/site-packages (from matplotlib<3.7,>=3.2->pandas-profiling==3.6.2) (1.1.1)\n",
      "Requirement already satisfied: cycler>=0.10 in /home/thutch28/miniconda3/envs/udacity/lib/python3.8/site-packages (from matplotlib<3.7,>=3.2->pandas-profiling==3.6.2) (0.12.1)\n",
      "Requirement already satisfied: fonttools>=4.22.0 in /home/thutch28/miniconda3/envs/udacity/lib/python3.8/site-packages (from matplotlib<3.7,>=3.2->pandas-profiling==3.6.2) (4.51.0)\n",
      "Requirement already satisfied: kiwisolver>=1.0.1 in /home/thutch28/miniconda3/envs/udacity/lib/python3.8/site-packages (from matplotlib<3.7,>=3.2->pandas-profiling==3.6.2) (1.4.5)\n",
      "Requirement already satisfied: packaging>=20.0 in /home/thutch28/miniconda3/envs/udacity/lib/python3.8/site-packages (from matplotlib<3.7,>=3.2->pandas-profiling==3.6.2) (24.0)\n",
      "Requirement already satisfied: pyparsing>=2.2.1 in /home/thutch28/miniconda3/envs/udacity/lib/python3.8/site-packages (from matplotlib<3.7,>=3.2->pandas-profiling==3.6.2) (3.1.2)\n",
      "Requirement already satisfied: python-dateutil>=2.7 in /home/thutch28/miniconda3/envs/udacity/lib/python3.8/site-packages (from matplotlib<3.7,>=3.2->pandas-profiling==3.6.2) (2.9.0)\n",
      "Requirement already satisfied: pytz>=2020.1 in /home/thutch28/miniconda3/envs/udacity/lib/python3.8/site-packages (from pandas!=1.4.0,<1.6,>1.1->pandas-profiling==3.6.2) (2024.1)\n",
      "Requirement already satisfied: joblib>=0.14.1 in /home/thutch28/miniconda3/envs/udacity/lib/python3.8/site-packages (from phik<0.13,>=0.11.1->pandas-profiling==3.6.2) (1.4.0)\n",
      "Requirement already satisfied: typing-extensions>=4.2.0 in /home/thutch28/miniconda3/envs/udacity/lib/python3.8/site-packages (from pydantic<1.11,>=1.8.1->pandas-profiling==3.6.2) (4.11.0)\n",
      "Requirement already satisfied: charset-normalizer<4,>=2 in /home/thutch28/miniconda3/envs/udacity/lib/python3.8/site-packages (from requests<2.29,>=2.24.0->pandas-profiling==3.6.2) (3.3.2)\n",
      "Requirement already satisfied: idna<4,>=2.5 in /home/thutch28/miniconda3/envs/udacity/lib/python3.8/site-packages (from requests<2.29,>=2.24.0->pandas-profiling==3.6.2) (3.7)\n",
      "Collecting urllib3<1.27,>=1.21.1 (from requests<2.29,>=2.24.0->pandas-profiling==3.6.2)\n",
      "  Downloading urllib3-1.26.18-py2.py3-none-any.whl.metadata (48 kB)\n",
      "\u001b[2K     \u001b[90m━━━━━━━━━━━━━━━━━━━━━━━━━━━━━━━━━━━━━━━━\u001b[0m \u001b[32m48.9/48.9 kB\u001b[0m \u001b[31m1.5 MB/s\u001b[0m eta \u001b[36m0:00:00\u001b[0m\n",
      "\u001b[?25hRequirement already satisfied: certifi>=2017.4.17 in /home/thutch28/miniconda3/envs/udacity/lib/python3.8/site-packages (from requests<2.29,>=2.24.0->pandas-profiling==3.6.2) (2024.2.2)\n",
      "Collecting patsy>=0.5.2 (from statsmodels<0.14,>=0.13.2->pandas-profiling==3.6.2)\n",
      "  Downloading patsy-0.5.6-py2.py3-none-any.whl.metadata (3.5 kB)\n",
      "Requirement already satisfied: six in /home/thutch28/miniconda3/envs/udacity/lib/python3.8/site-packages (from patsy>=0.5.2->statsmodels<0.14,>=0.13.2->pandas-profiling==3.6.2) (1.16.0)\n",
      "Collecting PyWavelets (from imagehash->visions[type_image_path]==0.7.5->pandas-profiling==3.6.2)\n",
      "  Downloading PyWavelets-1.4.1-cp38-cp38-manylinux_2_17_x86_64.manylinux2014_x86_64.whl.metadata (1.9 kB)\n",
      "Downloading pandas_profiling-3.6.2-py2.py3-none-any.whl (328 kB)\n",
      "\u001b[2K   \u001b[90m━━━━━━━━━━━━━━━━━━━━━━━━━━━━━━━━━━━━━━━━\u001b[0m \u001b[32m328.7/328.7 kB\u001b[0m \u001b[31m3.1 MB/s\u001b[0m eta \u001b[36m0:00:00\u001b[0m00:01\u001b[0m00:01\u001b[0m\n",
      "\u001b[?25hDownloading visions-0.7.5-py3-none-any.whl (102 kB)\n",
      "\u001b[2K   \u001b[90m━━━━━━━━━━━━━━━━━━━━━━━━━━━━━━━━━━━━━━━━\u001b[0m \u001b[32m102.7/102.7 kB\u001b[0m \u001b[31m2.0 MB/s\u001b[0m eta \u001b[36m0:00:00\u001b[0m \u001b[36m0:00:01\u001b[0m\n",
      "\u001b[?25hDownloading matplotlib-3.6.3-cp38-cp38-manylinux_2_12_x86_64.manylinux2010_x86_64.whl (9.4 MB)\n",
      "\u001b[2K   \u001b[90m━━━━━━━━━━━━━━━━━━━━━━━━━━━━━━━━━━━━━━━━\u001b[0m \u001b[32m9.4/9.4 MB\u001b[0m \u001b[31m2.6 MB/s\u001b[0m eta \u001b[36m0:00:00\u001b[0m00:01\u001b[0m00:01\u001b[0m\n",
      "\u001b[?25hDownloading multimethod-1.9.1-py3-none-any.whl (10 kB)\n",
      "Downloading numpy-1.23.5-cp38-cp38-manylinux_2_17_x86_64.manylinux2014_x86_64.whl (17.1 MB)\n",
      "\u001b[2K   \u001b[90m━━━━━━━━━━━━━━━━━━━━━━━━━━━━━━━━━━━━━━━━\u001b[0m \u001b[32m17.1/17.1 MB\u001b[0m \u001b[31m2.7 MB/s\u001b[0m eta \u001b[36m0:00:00\u001b[0m00:01\u001b[0m00:01\u001b[0m\n",
      "\u001b[?25hDownloading pandas-1.5.3-cp38-cp38-manylinux_2_17_x86_64.manylinux2014_x86_64.whl (12.2 MB)\n",
      "\u001b[2K   \u001b[90m━━━━━━━━━━━━━━━━━━━━━━━━━━━━━━━━━━━━━━━━\u001b[0m \u001b[32m12.2/12.2 MB\u001b[0m \u001b[31m3.1 MB/s\u001b[0m eta \u001b[36m0:00:00\u001b[0m00:01\u001b[0m00:01\u001b[0m\n",
      "\u001b[?25hDownloading phik-0.12.4-cp38-cp38-manylinux_2_17_x86_64.manylinux2014_x86_64.whl (686 kB)\n",
      "\u001b[2K   \u001b[90m━━━━━━━━━━━━━━━━━━━━━━━━━━━━━━━━━━━━━━━━\u001b[0m \u001b[32m686.1/686.1 kB\u001b[0m \u001b[31m2.9 MB/s\u001b[0m eta \u001b[36m0:00:00\u001b[0ma \u001b[36m0:00:01\u001b[0m\n",
      "\u001b[?25hDownloading pydantic-1.10.15-cp38-cp38-manylinux_2_17_x86_64.manylinux2014_x86_64.whl (3.2 MB)\n",
      "\u001b[2K   \u001b[90m━━━━━━━━━━━━━━━━━━━━━━━━━━━━━━━━━━━━━━━━\u001b[0m \u001b[32m3.2/3.2 MB\u001b[0m \u001b[31m3.2 MB/s\u001b[0m eta \u001b[36m0:00:00\u001b[0m00:01\u001b[0m00:01\u001b[0m\n",
      "\u001b[?25hDownloading requests-2.28.2-py3-none-any.whl (62 kB)\n",
      "\u001b[2K   \u001b[90m━━━━━━━━━━━━━━━━━━━━━━━━━━━━━━━━━━━━━━━━\u001b[0m \u001b[32m62.8/62.8 kB\u001b[0m \u001b[31m2.0 MB/s\u001b[0m eta \u001b[36m0:00:00\u001b[0m00:01\u001b[0m\n",
      "\u001b[?25hDownloading scipy-1.9.3-cp38-cp38-manylinux_2_17_x86_64.manylinux2014_x86_64.whl (33.8 MB)\n",
      "\u001b[2K   \u001b[91m━━━━━━━━━━━━━━━━━\u001b[0m\u001b[91m╸\u001b[0m\u001b[90m━━━━━━━━━━━━━━━━━━━━━━\u001b[0m \u001b[32m15.0/33.8 MB\u001b[0m \u001b[31m1.8 MB/s\u001b[0m eta \u001b[36m0:00:11\u001b[0m"
     ]
    }
   ],
   "source": [
    "!pip install wandb==0.13.9\n",
    "!pip install pandas-profiling==3.6.2\n",
    "!pip install pandas==1.2.3"
   ]
  },
  {
   "cell_type": "markdown",
   "id": "54c4f98a",
   "metadata": {},
   "source": [
    "1. Fetch the artifact we just created (sample.csv) from W&B and read it with pandas:"
   ]
  },
  {
   "cell_type": "code",
   "execution_count": null,
   "id": "eed98c34",
   "metadata": {},
   "outputs": [],
   "source": [
    "import wandb\n",
    "import pandas as pd\n",
    "# Note that we use save_code=True in the call to wandb.init so the notebook is uploaded and versioned by W&B\n",
    "run = wandb.init(project=\"nyc_airbnb\", group=\"eda\", save_code=True)\n",
    "local_path = wandb.use_artifact(\"sample.csv:latest\").file()\n",
    "df = pd.read_csv(local_path)"
   ]
  },
  {
   "cell_type": "markdown",
   "id": "472b8c0d",
   "metadata": {},
   "source": [
    "2. Explore the data in df"
   ]
  },
  {
   "cell_type": "code",
   "execution_count": null,
   "id": "e7902159",
   "metadata": {},
   "outputs": [],
   "source": [
    "df.info()"
   ]
  },
  {
   "cell_type": "code",
   "execution_count": null,
   "id": "ef6f1457",
   "metadata": {},
   "outputs": [],
   "source": [
    "df.describe()"
   ]
  },
  {
   "cell_type": "code",
   "execution_count": null,
   "id": "13548f59",
   "metadata": {},
   "outputs": [],
   "source": [
    "df.head()"
   ]
  },
  {
   "cell_type": "markdown",
   "id": "ecfee692",
   "metadata": {},
   "source": [
    "3. What do you notice in the data? Look around and see what you can find.\n",
    "\n",
    "> For example, there are missing values in a few columns and the column `last_review` is a date but it is in string format. Look also at the `price` column, and note the outliers. There are some zeros and some very high prices. After talking to your stakeholders, you decide to consider from a minimum of `$10` to a maximum of `$350` per night."
   ]
  },
  {
   "cell_type": "markdown",
   "id": "b4bb415f",
   "metadata": {},
   "source": [
    "4. Fix some of the little problems we have found in the data with the following code:"
   ]
  },
  {
   "cell_type": "code",
   "execution_count": null,
   "id": "4d685317",
   "metadata": {},
   "outputs": [],
   "source": [
    "# Drop outliers\n",
    "min_price = 10\n",
    "max_price = 350\n",
    "idx = df['price'].between(min_price, max_price)\n",
    "df = df[idx].copy()\n",
    "# Convert last_review to datetime\n",
    "df['last_review'] = pd.to_datetime(df['last_review'])"
   ]
  },
  {
   "cell_type": "markdown",
   "id": "17990df4",
   "metadata": {},
   "source": [
    "Note how we did not impute missing values. We will do that in the inference pipeline, so we will be able to handle missing values also in production."
   ]
  },
  {
   "cell_type": "markdown",
   "id": "09287f29",
   "metadata": {},
   "source": [
    "5. Check with df.info() that all obvious problems have been solved"
   ]
  },
  {
   "cell_type": "code",
   "execution_count": null,
   "id": "b83b4970",
   "metadata": {},
   "outputs": [],
   "source": [
    "df.info()"
   ]
  },
  {
   "cell_type": "markdown",
   "id": "d727e697",
   "metadata": {},
   "source": [
    "6. Terminate the run by running `run.finish()`"
   ]
  },
  {
   "cell_type": "code",
   "execution_count": null,
   "id": "48b38586",
   "metadata": {},
   "outputs": [],
   "source": [
    "run.finish()"
   ]
  },
  {
   "cell_type": "markdown",
   "id": "13f82b21",
   "metadata": {},
   "source": [
    "7. Save the notebook."
   ]
  },
  {
   "cell_type": "code",
   "execution_count": null,
   "id": "259677bb-ecd1-49a4-b4c4-0aa28f50feb1",
   "metadata": {},
   "outputs": [],
   "source": []
  }
 ],
 "metadata": {
  "kernelspec": {
   "display_name": "Python 3 (ipykernel)",
   "language": "python",
   "name": "python3"
  },
  "language_info": {
   "codemirror_mode": {
    "name": "ipython",
    "version": 3
   },
   "file_extension": ".py",
   "mimetype": "text/x-python",
   "name": "python",
   "nbconvert_exporter": "python",
   "pygments_lexer": "ipython3",
   "version": "3.8.19"
  }
 },
 "nbformat": 4,
 "nbformat_minor": 5
}
